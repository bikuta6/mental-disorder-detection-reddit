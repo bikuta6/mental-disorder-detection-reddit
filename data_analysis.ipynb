{
 "cells": [
  {
   "cell_type": "code",
   "execution_count": 7,
   "metadata": {},
   "outputs": [],
   "source": [
    "import pandas as pd\n",
    "import numpy as np\n",
    "import emoji"
   ]
  },
  {
   "cell_type": "markdown",
   "metadata": {},
   "source": [
    "Inicialmente cargamos los datos"
   ]
  },
  {
   "cell_type": "code",
   "execution_count": 8,
   "metadata": {},
   "outputs": [],
   "source": [
    "raw_data = pd.read_csv('mental_disorders_reddit.csv', sep=',')"
   ]
  },
  {
   "cell_type": "markdown",
   "metadata": {},
   "source": [
    "Y observamos la estructura"
   ]
  },
  {
   "cell_type": "code",
   "execution_count": 9,
   "metadata": {},
   "outputs": [
    {
     "data": {
      "text/html": [
       "<div>\n",
       "<style scoped>\n",
       "    .dataframe tbody tr th:only-of-type {\n",
       "        vertical-align: middle;\n",
       "    }\n",
       "\n",
       "    .dataframe tbody tr th {\n",
       "        vertical-align: top;\n",
       "    }\n",
       "\n",
       "    .dataframe thead th {\n",
       "        text-align: right;\n",
       "    }\n",
       "</style>\n",
       "<table border=\"1\" class=\"dataframe\">\n",
       "  <thead>\n",
       "    <tr style=\"text-align: right;\">\n",
       "      <th></th>\n",
       "      <th>title</th>\n",
       "      <th>selftext</th>\n",
       "      <th>created_utc</th>\n",
       "      <th>over_18</th>\n",
       "      <th>subreddit</th>\n",
       "    </tr>\n",
       "  </thead>\n",
       "  <tbody>\n",
       "    <tr>\n",
       "      <th>0</th>\n",
       "      <td>Life is so pointless without others</td>\n",
       "      <td>Does anyone else think the most important part...</td>\n",
       "      <td>1650356960</td>\n",
       "      <td>False</td>\n",
       "      <td>BPD</td>\n",
       "    </tr>\n",
       "    <tr>\n",
       "      <th>1</th>\n",
       "      <td>Cold rage?</td>\n",
       "      <td>Hello fellow friends 😄\\n\\nI'm on the BPD spect...</td>\n",
       "      <td>1650356660</td>\n",
       "      <td>False</td>\n",
       "      <td>BPD</td>\n",
       "    </tr>\n",
       "    <tr>\n",
       "      <th>2</th>\n",
       "      <td>I don’t know who I am</td>\n",
       "      <td>My [F20] bf [M20] told me today (after I said ...</td>\n",
       "      <td>1650355379</td>\n",
       "      <td>False</td>\n",
       "      <td>BPD</td>\n",
       "    </tr>\n",
       "    <tr>\n",
       "      <th>3</th>\n",
       "      <td>HELP! Opinions! Advice!</td>\n",
       "      <td>Okay, I’m about to open up about many things I...</td>\n",
       "      <td>1650353430</td>\n",
       "      <td>False</td>\n",
       "      <td>BPD</td>\n",
       "    </tr>\n",
       "    <tr>\n",
       "      <th>4</th>\n",
       "      <td>help</td>\n",
       "      <td>[removed]</td>\n",
       "      <td>1650350907</td>\n",
       "      <td>False</td>\n",
       "      <td>BPD</td>\n",
       "    </tr>\n",
       "  </tbody>\n",
       "</table>\n",
       "</div>"
      ],
      "text/plain": [
       "                                 title  \\\n",
       "0  Life is so pointless without others   \n",
       "1                           Cold rage?   \n",
       "2                I don’t know who I am   \n",
       "3              HELP! Opinions! Advice!   \n",
       "4                                 help   \n",
       "\n",
       "                                            selftext  created_utc  over_18  \\\n",
       "0  Does anyone else think the most important part...   1650356960    False   \n",
       "1  Hello fellow friends 😄\\n\\nI'm on the BPD spect...   1650356660    False   \n",
       "2  My [F20] bf [M20] told me today (after I said ...   1650355379    False   \n",
       "3  Okay, I’m about to open up about many things I...   1650353430    False   \n",
       "4                                          [removed]   1650350907    False   \n",
       "\n",
       "  subreddit  \n",
       "0       BPD  \n",
       "1       BPD  \n",
       "2       BPD  \n",
       "3       BPD  \n",
       "4       BPD  "
      ]
     },
     "execution_count": 9,
     "metadata": {},
     "output_type": "execute_result"
    }
   ],
   "source": [
    "raw_data.head()"
   ]
  },
  {
   "cell_type": "markdown",
   "metadata": {},
   "source": [
    "El dataset contiene 5 columnas:\n",
    "\n",
    "- **title**: Título del post\n",
    "- **selftext**: Texto del post\n",
    "- **created_utc**: Fecha de creación del post\n",
    "- **over_18**: Si el post es para mayores de 18 años\n",
    "- **subreddit**: Subreddit al que pertenece el post"
   ]
  },
  {
   "cell_type": "code",
   "execution_count": 10,
   "metadata": {},
   "outputs": [
    {
     "data": {
      "text/plain": [
       "(701787, 5)"
      ]
     },
     "execution_count": 10,
     "metadata": {},
     "output_type": "execute_result"
    }
   ],
   "source": [
    "raw_data.shape"
   ]
  },
  {
   "cell_type": "markdown",
   "metadata": {},
   "source": [
    "La descripción del dataset indicaba que exsitían valores nulos, por tanto, procedemos a eliminarlos"
   ]
  },
  {
   "cell_type": "code",
   "execution_count": 11,
   "metadata": {},
   "outputs": [],
   "source": [
    "raw_data.dropna(inplace=True)"
   ]
  },
  {
   "cell_type": "markdown",
   "metadata": {},
   "source": [
    "Y además eliminamos los posts eliminados"
   ]
  },
  {
   "cell_type": "code",
   "execution_count": 12,
   "metadata": {},
   "outputs": [],
   "source": [
    "removed_index = raw_data[raw_data['selftext'] == '[removed]'].index"
   ]
  },
  {
   "cell_type": "code",
   "execution_count": 13,
   "metadata": {},
   "outputs": [],
   "source": [
    "raw_data.drop(removed_index, inplace=True)"
   ]
  },
  {
   "cell_type": "markdown",
   "metadata": {},
   "source": [
    "Contamos los duplicados y los eliminamos"
   ]
  },
  {
   "cell_type": "code",
   "execution_count": 14,
   "metadata": {},
   "outputs": [],
   "source": [
    "duped_idex = raw_data[raw_data.duplicated()].index"
   ]
  },
  {
   "cell_type": "code",
   "execution_count": 15,
   "metadata": {},
   "outputs": [],
   "source": [
    "raw_data.drop(duped_idex, inplace=True)"
   ]
  },
  {
   "cell_type": "markdown",
   "metadata": {},
   "source": [
    "Finalmente para faciliar la codificación eliminamos los emojis de los campos de texto (title y selftext)"
   ]
  },
  {
   "cell_type": "code",
   "execution_count": 16,
   "metadata": {},
   "outputs": [
    {
     "data": {
      "text/plain": [
       "'Hello fellow friends 😄\\n\\nI\\'m on the BPD spectrum and have discouraged (silent) borderline characteristics.\\n\\nThere are different levels to experiencing anger. I was wondering, what are yours? And how do you express it? What\\'s a healthy way you found to cool it down?\\n\\nFor me I will first become silent and blame myself, \"maybe if I\" or \"If I only\", \"maybe he\\'s just not having it today\", \"maybe I simply don\\'t get him due to my own shortcomings in understanding\". However, I find it interesting how, when someone hurts the ones I love, I tend not to demonize myself no more in the extend I would normally do, but rather the aggressor. In extreme cases this can lead to my maximum expression of anger. I don\\'t know whether you guys get to experience this as well? \\n\\nI have written this as a reaction to another post and it illustrates what this anger would look like:\\n\\n\"The maximum amount of rage. it\\'s like I blackout. I call it cold rage. No sense of pain whatsoever, pure anger. It\\'s the point people don\\'t recognize me anymore, because I will dissociate in anger. My field of view will become a pinpoint, I will start breathing superficially, and even lash out to the ones I love trying to calm me. It\\'s disgusting and the insanity itself. I must say this only happened once in my life, when the ex of my sister encouraged her to mix her psych meds with drugs and alcohol and so she went into deep psychotic state for the first time of her life. He didn\\'t even let us know what had happened, my sister just came home in that state. Then he called her and told her she\\'s completely bonkers, instead of alarming the rest of the family. I\\'m shaking as I\\'m writing this because I know it\\'s still the rest of anger inside me left behind. It was the first time I thought I could end someone\\'s life. I\\'m extremely grateful for the fact that I didn\\'t, but I know I shouldn\\'t see him anywhere ever again. I try to calm myself by saying he\\'s using drugs every day since he was like 14 yo, so in his brain he must be still a child who doesn\\'t get it, due to development delay. But more often than not these calming thoughts don\\'t work. He has very narcissistic tendencies. And saying I hate him would be an absolute understatement. I do get therapy now though. So I wonder whether I would be able to get to that level ever again. I guess not.\"\\n\\nTo put things in perspective: Normally I\\'m a shy and polite person. I never insult others, because I hate hurting them. People will even tell me I lack confidence actually and I should \"stand up for myself more.\"\\n\\nSo yeah, to end this long rant with the clear questions I started it with: \"There are different levels to experiencing anger. I was wondering, what are yours? And how do you express it? What\\'s a healthy way you found to cool it down?\"'"
      ]
     },
     "execution_count": 16,
     "metadata": {},
     "output_type": "execute_result"
    }
   ],
   "source": [
    "raw_data.iloc[1]['selftext']"
   ]
  },
  {
   "cell_type": "code",
   "execution_count": 17,
   "metadata": {},
   "outputs": [],
   "source": [
    "def remove_emojis(text):\n",
    "    return emoji.replace_emoji(text, replace='')\n",
    "\n",
    "raw_data['title'] = raw_data['title'].apply(remove_emojis)\n",
    "raw_data['selftext'] = raw_data['selftext'].apply(remove_emojis)"
   ]
  },
  {
   "cell_type": "code",
   "execution_count": 18,
   "metadata": {},
   "outputs": [
    {
     "data": {
      "text/plain": [
       "title                                                 Cold rage?\n",
       "selftext       Hello fellow friends \\n\\nI'm on the BPD spectr...\n",
       "created_utc                                           1650356660\n",
       "over_18                                                    False\n",
       "subreddit                                                    BPD\n",
       "Name: 1, dtype: object"
      ]
     },
     "execution_count": 18,
     "metadata": {},
     "output_type": "execute_result"
    }
   ],
   "source": [
    "raw_data.iloc[1]"
   ]
  },
  {
   "cell_type": "markdown",
   "metadata": {},
   "source": [
    "Elimino saltos de línea"
   ]
  },
  {
   "cell_type": "code",
   "execution_count": 19,
   "metadata": {},
   "outputs": [],
   "source": [
    "# remove \\n\n",
    "raw_data['title'] = raw_data['title'].str.replace('\\n', ' ')\n",
    "raw_data['selftext'] = raw_data['selftext'].str.replace('\\n', ' ')"
   ]
  },
  {
   "cell_type": "code",
   "execution_count": 20,
   "metadata": {},
   "outputs": [
    {
     "data": {
      "text/plain": [
       "title                                                 Cold rage?\n",
       "selftext       Hello fellow friends   I'm on the BPD spectrum...\n",
       "created_utc                                           1650356660\n",
       "over_18                                                    False\n",
       "subreddit                                                    BPD\n",
       "Name: 1, dtype: object"
      ]
     },
     "execution_count": 20,
     "metadata": {},
     "output_type": "execute_result"
    }
   ],
   "source": [
    "raw_data.iloc[1]"
   ]
  },
  {
   "cell_type": "markdown",
   "metadata": {},
   "source": [
    "Salvamos una copia"
   ]
  },
  {
   "cell_type": "code",
   "execution_count": 21,
   "metadata": {},
   "outputs": [],
   "source": [
    "raw_data.to_csv('somewhat_clean_mental_disorders_reddit.csv', index=False)"
   ]
  },
  {
   "cell_type": "markdown",
   "metadata": {},
   "source": [
    "Y la cargamos"
   ]
  },
  {
   "cell_type": "code",
   "execution_count": 22,
   "metadata": {},
   "outputs": [],
   "source": [
    "import pandas as pd"
   ]
  },
  {
   "cell_type": "code",
   "execution_count": 23,
   "metadata": {},
   "outputs": [],
   "source": [
    "df = pd.read_csv('somewhat_clean_mental_disorders_reddit.csv')"
   ]
  },
  {
   "cell_type": "code",
   "execution_count": 24,
   "metadata": {},
   "outputs": [
    {
     "data": {
      "text/html": [
       "<div>\n",
       "<style scoped>\n",
       "    .dataframe tbody tr th:only-of-type {\n",
       "        vertical-align: middle;\n",
       "    }\n",
       "\n",
       "    .dataframe tbody tr th {\n",
       "        vertical-align: top;\n",
       "    }\n",
       "\n",
       "    .dataframe thead th {\n",
       "        text-align: right;\n",
       "    }\n",
       "</style>\n",
       "<table border=\"1\" class=\"dataframe\">\n",
       "  <thead>\n",
       "    <tr style=\"text-align: right;\">\n",
       "      <th></th>\n",
       "      <th>title</th>\n",
       "      <th>selftext</th>\n",
       "      <th>created_utc</th>\n",
       "      <th>over_18</th>\n",
       "      <th>subreddit</th>\n",
       "    </tr>\n",
       "  </thead>\n",
       "  <tbody>\n",
       "    <tr>\n",
       "      <th>0</th>\n",
       "      <td>Life is so pointless without others</td>\n",
       "      <td>Does anyone else think the most important part...</td>\n",
       "      <td>1650356960</td>\n",
       "      <td>False</td>\n",
       "      <td>BPD</td>\n",
       "    </tr>\n",
       "    <tr>\n",
       "      <th>1</th>\n",
       "      <td>Cold rage?</td>\n",
       "      <td>Hello fellow friends   I'm on the BPD spectrum...</td>\n",
       "      <td>1650356660</td>\n",
       "      <td>False</td>\n",
       "      <td>BPD</td>\n",
       "    </tr>\n",
       "    <tr>\n",
       "      <th>2</th>\n",
       "      <td>I don’t know who I am</td>\n",
       "      <td>My [F20] bf [M20] told me today (after I said ...</td>\n",
       "      <td>1650355379</td>\n",
       "      <td>False</td>\n",
       "      <td>BPD</td>\n",
       "    </tr>\n",
       "    <tr>\n",
       "      <th>3</th>\n",
       "      <td>HELP! Opinions! Advice!</td>\n",
       "      <td>Okay, I’m about to open up about many things I...</td>\n",
       "      <td>1650353430</td>\n",
       "      <td>False</td>\n",
       "      <td>BPD</td>\n",
       "    </tr>\n",
       "    <tr>\n",
       "      <th>4</th>\n",
       "      <td>My ex got diagnosed with BPD</td>\n",
       "      <td>Without going into detail, this diagnosis expl...</td>\n",
       "      <td>1650350635</td>\n",
       "      <td>False</td>\n",
       "      <td>BPD</td>\n",
       "    </tr>\n",
       "    <tr>\n",
       "      <th>...</th>\n",
       "      <td>...</td>\n",
       "      <td>...</td>\n",
       "      <td>...</td>\n",
       "      <td>...</td>\n",
       "      <td>...</td>\n",
       "    </tr>\n",
       "    <tr>\n",
       "      <th>581048</th>\n",
       "      <td>I really need to talk to a therapist..</td>\n",
       "      <td>I can't afford a real session and it's 11 PM. ...</td>\n",
       "      <td>1415332108</td>\n",
       "      <td>False</td>\n",
       "      <td>mentalillness</td>\n",
       "    </tr>\n",
       "    <tr>\n",
       "      <th>581049</th>\n",
       "      <td>I have pica</td>\n",
       "      <td>Hello.           I'm taking steps to get rid o...</td>\n",
       "      <td>1414896638</td>\n",
       "      <td>False</td>\n",
       "      <td>mentalillness</td>\n",
       "    </tr>\n",
       "    <tr>\n",
       "      <th>581050</th>\n",
       "      <td>Where can you go to get help for someone menta...</td>\n",
       "      <td>Someone (a war veteran) I know is mentally ill...</td>\n",
       "      <td>1396298261</td>\n",
       "      <td>False</td>\n",
       "      <td>mentalillness</td>\n",
       "    </tr>\n",
       "    <tr>\n",
       "      <th>581051</th>\n",
       "      <td>I am rooster illusion</td>\n",
       "      <td>AMA</td>\n",
       "      <td>1344639905</td>\n",
       "      <td>False</td>\n",
       "      <td>mentalillness</td>\n",
       "    </tr>\n",
       "    <tr>\n",
       "      <th>581052</th>\n",
       "      <td>crazy motherfucker</td>\n",
       "      <td>so i have a lot of random impluses. crazy shit...</td>\n",
       "      <td>1321506737</td>\n",
       "      <td>False</td>\n",
       "      <td>mentalillness</td>\n",
       "    </tr>\n",
       "  </tbody>\n",
       "</table>\n",
       "<p>581053 rows × 5 columns</p>\n",
       "</div>"
      ],
      "text/plain": [
       "                                                    title  \\\n",
       "0                     Life is so pointless without others   \n",
       "1                                              Cold rage?   \n",
       "2                                   I don’t know who I am   \n",
       "3                                 HELP! Opinions! Advice!   \n",
       "4                            My ex got diagnosed with BPD   \n",
       "...                                                   ...   \n",
       "581048             I really need to talk to a therapist..   \n",
       "581049                                        I have pica   \n",
       "581050  Where can you go to get help for someone menta...   \n",
       "581051                              I am rooster illusion   \n",
       "581052                                 crazy motherfucker   \n",
       "\n",
       "                                                 selftext  created_utc  \\\n",
       "0       Does anyone else think the most important part...   1650356960   \n",
       "1       Hello fellow friends   I'm on the BPD spectrum...   1650356660   \n",
       "2       My [F20] bf [M20] told me today (after I said ...   1650355379   \n",
       "3       Okay, I’m about to open up about many things I...   1650353430   \n",
       "4       Without going into detail, this diagnosis expl...   1650350635   \n",
       "...                                                   ...          ...   \n",
       "581048  I can't afford a real session and it's 11 PM. ...   1415332108   \n",
       "581049  Hello.           I'm taking steps to get rid o...   1414896638   \n",
       "581050  Someone (a war veteran) I know is mentally ill...   1396298261   \n",
       "581051                                                AMA   1344639905   \n",
       "581052  so i have a lot of random impluses. crazy shit...   1321506737   \n",
       "\n",
       "        over_18      subreddit  \n",
       "0         False            BPD  \n",
       "1         False            BPD  \n",
       "2         False            BPD  \n",
       "3         False            BPD  \n",
       "4         False            BPD  \n",
       "...         ...            ...  \n",
       "581048    False  mentalillness  \n",
       "581049    False  mentalillness  \n",
       "581050    False  mentalillness  \n",
       "581051    False  mentalillness  \n",
       "581052    False  mentalillness  \n",
       "\n",
       "[581053 rows x 5 columns]"
      ]
     },
     "execution_count": 24,
     "metadata": {},
     "output_type": "execute_result"
    }
   ],
   "source": [
    "df"
   ]
  },
  {
   "cell_type": "code",
   "execution_count": 25,
   "metadata": {},
   "outputs": [
    {
     "data": {
      "text/plain": [
       "subreddit\n",
       "BPD              212789\n",
       "Anxiety          161580\n",
       "depression       121141\n",
       "mentalillness     38150\n",
       "bipolar           35669\n",
       "schizophrenia     11724\n",
       "Name: count, dtype: int64"
      ]
     },
     "execution_count": 25,
     "metadata": {},
     "output_type": "execute_result"
    }
   ],
   "source": [
    "df.subreddit.value_counts()"
   ]
  },
  {
   "cell_type": "markdown",
   "metadata": {},
   "source": [
    "Antes de entrenar algún modelo clasificador, sabemos por el poster del dataset que hay muchos posts trolls, por tanto, vamos a codificar los textos con un modelo de huggingface y a realizar una reducción de dimensionalidad con clustering para ver si los posts trolls se agrupan en un cluster, y si es así, podremos utilizar esta información para entrenar un modelo clasificador que, además de la etiqueta del subreddit, pueda diferenciar si un post es troll o no"
   ]
  },
  {
   "cell_type": "code",
   "execution_count": 26,
   "metadata": {},
   "outputs": [
    {
     "name": "stderr",
     "output_type": "stream",
     "text": [
      "c:\\Users\\vramo\\miniconda3\\envs\\torch_env\\lib\\site-packages\\sentence_transformers\\cross_encoder\\CrossEncoder.py:11: TqdmExperimentalWarning: Using `tqdm.autonotebook.tqdm` in notebook mode. Use `tqdm.tqdm` instead to force console mode (e.g. in jupyter console)\n",
      "  from tqdm.autonotebook import tqdm, trange\n"
     ]
    },
    {
     "data": {
      "application/vnd.jupyter.widget-view+json": {
       "model_id": "c1fbf6cbcb124f69a703197533a258ec",
       "version_major": 2,
       "version_minor": 0
      },
      "text/plain": [
       "modules.json:   0%|          | 0.00/229 [00:00<?, ?B/s]"
      ]
     },
     "metadata": {},
     "output_type": "display_data"
    },
    {
     "name": "stderr",
     "output_type": "stream",
     "text": [
      "c:\\Users\\vramo\\miniconda3\\envs\\torch_env\\lib\\site-packages\\huggingface_hub\\file_download.py:157: UserWarning: `huggingface_hub` cache-system uses symlinks by default to efficiently store duplicated files but your machine does not support them in C:\\Users\\vramo\\.cache\\huggingface\\hub\\models--mixedbread-ai--mxbai-embed-large-v1. Caching files will still work but in a degraded version that might require more space on your disk. This warning can be disabled by setting the `HF_HUB_DISABLE_SYMLINKS_WARNING` environment variable. For more details, see https://huggingface.co/docs/huggingface_hub/how-to-cache#limitations.\n",
      "To support symlinks on Windows, you either need to activate Developer Mode or to run Python as an administrator. In order to see activate developer mode, see this article: https://docs.microsoft.com/en-us/windows/apps/get-started/enable-your-device-for-development\n",
      "  warnings.warn(message)\n"
     ]
    },
    {
     "data": {
      "application/vnd.jupyter.widget-view+json": {
       "model_id": "4ebb5af3c50f49308f33c1bb0343d682",
       "version_major": 2,
       "version_minor": 0
      },
      "text/plain": [
       "config_sentence_transformers.json:   0%|          | 0.00/171 [00:00<?, ?B/s]"
      ]
     },
     "metadata": {},
     "output_type": "display_data"
    },
    {
     "data": {
      "application/vnd.jupyter.widget-view+json": {
       "model_id": "c23256cb2d6b4148ab4d053cb402d435",
       "version_major": 2,
       "version_minor": 0
      },
      "text/plain": [
       "README.md:   0%|          | 0.00/114k [00:00<?, ?B/s]"
      ]
     },
     "metadata": {},
     "output_type": "display_data"
    },
    {
     "data": {
      "application/vnd.jupyter.widget-view+json": {
       "model_id": "191de57f06614e2b80f39f6b9063a780",
       "version_major": 2,
       "version_minor": 0
      },
      "text/plain": [
       "sentence_bert_config.json:   0%|          | 0.00/53.0 [00:00<?, ?B/s]"
      ]
     },
     "metadata": {},
     "output_type": "display_data"
    },
    {
     "data": {
      "application/vnd.jupyter.widget-view+json": {
       "model_id": "2b38779d58634edeaed66493f3c69c6c",
       "version_major": 2,
       "version_minor": 0
      },
      "text/plain": [
       "config.json:   0%|          | 0.00/677 [00:00<?, ?B/s]"
      ]
     },
     "metadata": {},
     "output_type": "display_data"
    },
    {
     "data": {
      "application/vnd.jupyter.widget-view+json": {
       "model_id": "ad6864619fde474a9be2d8b7ce7a48e2",
       "version_major": 2,
       "version_minor": 0
      },
      "text/plain": [
       "model.safetensors:   0%|          | 0.00/670M [00:00<?, ?B/s]"
      ]
     },
     "metadata": {},
     "output_type": "display_data"
    },
    {
     "data": {
      "application/vnd.jupyter.widget-view+json": {
       "model_id": "5b35a33d60e643ba8e00ec2db5a5ef1f",
       "version_major": 2,
       "version_minor": 0
      },
      "text/plain": [
       "tokenizer_config.json:   0%|          | 0.00/1.24k [00:00<?, ?B/s]"
      ]
     },
     "metadata": {},
     "output_type": "display_data"
    },
    {
     "data": {
      "application/vnd.jupyter.widget-view+json": {
       "model_id": "bebf2afebe6c4261a588c70d3362d45d",
       "version_major": 2,
       "version_minor": 0
      },
      "text/plain": [
       "vocab.txt:   0%|          | 0.00/232k [00:00<?, ?B/s]"
      ]
     },
     "metadata": {},
     "output_type": "display_data"
    },
    {
     "data": {
      "application/vnd.jupyter.widget-view+json": {
       "model_id": "c4b7e3ed466f475fb46acb10209dc140",
       "version_major": 2,
       "version_minor": 0
      },
      "text/plain": [
       "tokenizer.json:   0%|          | 0.00/711k [00:00<?, ?B/s]"
      ]
     },
     "metadata": {},
     "output_type": "display_data"
    },
    {
     "data": {
      "application/vnd.jupyter.widget-view+json": {
       "model_id": "36ef8f5c7e124718b19f34bbd7d218f0",
       "version_major": 2,
       "version_minor": 0
      },
      "text/plain": [
       "special_tokens_map.json:   0%|          | 0.00/695 [00:00<?, ?B/s]"
      ]
     },
     "metadata": {},
     "output_type": "display_data"
    },
    {
     "data": {
      "application/vnd.jupyter.widget-view+json": {
       "model_id": "2298369ea2844411958fae267cb1998d",
       "version_major": 2,
       "version_minor": 0
      },
      "text/plain": [
       "1_Pooling/config.json:   0%|          | 0.00/297 [00:00<?, ?B/s]"
      ]
     },
     "metadata": {},
     "output_type": "display_data"
    }
   ],
   "source": [
    "from sentence_transformers import SentenceTransformer\n",
    "\n",
    "dimensions = 512\n",
    "\n",
    "model = SentenceTransformer(\"mixedbread-ai/mxbai-embed-large-v1\", truncate_dim=dimensions)"
   ]
  },
  {
   "cell_type": "code",
   "execution_count": 27,
   "metadata": {},
   "outputs": [],
   "source": [
    "df['full_text'] = df['title'] + ' ' + df['selftext']"
   ]
  },
  {
   "cell_type": "code",
   "execution_count": 28,
   "metadata": {},
   "outputs": [
    {
     "name": "stderr",
     "output_type": "stream",
     "text": [
      "C:\\Users\\vramo\\AppData\\Local\\Temp\\ipykernel_26052\\2726202941.py:1: FutureWarning: A value is trying to be set on a copy of a DataFrame or Series through chained assignment using an inplace method.\n",
      "The behavior will change in pandas 3.0. This inplace method will never work because the intermediate object on which we are setting values always behaves as a copy.\n",
      "\n",
      "For example, when doing 'df[col].method(value, inplace=True)', try using 'df.method({col: value}, inplace=True)' or df[col] = df[col].method(value) instead, to perform the operation inplace on the original object.\n",
      "\n",
      "\n",
      "  df['full_text'].fillna('', inplace=True)\n"
     ]
    },
    {
     "data": {
      "text/plain": [
       "array(['Life is so pointless without others Does anyone else think the most important part of life is being in a relationship? like the absolute most important. I don’t really care for any other goals in my life lol as long as I end up in a relationship. that’s like my ultimate life goal. I wish I wasn’t like this tho.  my therapist will ask me ab life goals and I just can’t imagine doing anything without someone by my side.',\n",
       "       'Cold rage? Hello fellow friends   I\\'m on the BPD spectrum and have discouraged (silent) borderline characteristics.  There are different levels to experiencing anger. I was wondering, what are yours? And how do you express it? What\\'s a healthy way you found to cool it down?  For me I will first become silent and blame myself, \"maybe if I\" or \"If I only\", \"maybe he\\'s just not having it today\", \"maybe I simply don\\'t get him due to my own shortcomings in understanding\". However, I find it interesting how, when someone hurts the ones I love, I tend not to demonize myself no more in the extend I would normally do, but rather the aggressor. In extreme cases this can lead to my maximum expression of anger. I don\\'t know whether you guys get to experience this as well?   I have written this as a reaction to another post and it illustrates what this anger would look like:  \"The maximum amount of rage. it\\'s like I blackout. I call it cold rage. No sense of pain whatsoever, pure anger. It\\'s the point people don\\'t recognize me anymore, because I will dissociate in anger. My field of view will become a pinpoint, I will start breathing superficially, and even lash out to the ones I love trying to calm me. It\\'s disgusting and the insanity itself. I must say this only happened once in my life, when the ex of my sister encouraged her to mix her psych meds with drugs and alcohol and so she went into deep psychotic state for the first time of her life. He didn\\'t even let us know what had happened, my sister just came home in that state. Then he called her and told her she\\'s completely bonkers, instead of alarming the rest of the family. I\\'m shaking as I\\'m writing this because I know it\\'s still the rest of anger inside me left behind. It was the first time I thought I could end someone\\'s life. I\\'m extremely grateful for the fact that I didn\\'t, but I know I shouldn\\'t see him anywhere ever again. I try to calm myself by saying he\\'s using drugs every day since he was like 14 yo, so in his brain he must be still a child who doesn\\'t get it, due to development delay. But more often than not these calming thoughts don\\'t work. He has very narcissistic tendencies. And saying I hate him would be an absolute understatement. I do get therapy now though. So I wonder whether I would be able to get to that level ever again. I guess not.\"  To put things in perspective: Normally I\\'m a shy and polite person. I never insult others, because I hate hurting them. People will even tell me I lack confidence actually and I should \"stand up for myself more.\"  So yeah, to end this long rant with the clear questions I started it with: \"There are different levels to experiencing anger. I was wondering, what are yours? And how do you express it? What\\'s a healthy way you found to cool it down?\"',\n",
       "       'I don’t know who I am My [F20] bf [M20] told me today (after I said “I just wish I could be better for you”) that he likes me for who I am, and that I don’t need to be better for him. And after crying about how I don’t think anyone has ever said that to me before, I realized that I don’t know who I am. I know my name, I know my age, I know my school and my hair colour and my weight and my shoe size, but I don’t know any qualitative. I don’t have a favourite meal, or a favourite movie, I don’t know what hobbies I have anymore, or what I’d like in a partner, or my favourite restaurant. I don’t know when I lost myself, or if this is even related to my bpd, but has anyone else experienced this? Am I alone?',\n",
       "       ...,\n",
       "       \"Where can you go to get help for someone mentally ill when the psyche wards keep releasing them? Someone (a war veteran) I know is mentally ill and won't seek help. He was involuntarily committed for a while and they diagnosed him with Bipolar and PTSD. Now, he's released and he's gotten far worse. I want to know if there's someplace to get them help. He has delusions of God, that he himself is God and he sees people. He thinks the homeless people that are living under his roof are his children. Also, he's massively in debt.  Where can I seek help for him?\",\n",
       "       'I am rooster illusion AMA',\n",
       "       'crazy motherfucker so i have a lot of random impluses. crazy shit. like right now i want to walk down the street in the rain naked just for fun. (Victoria BC). I also toy with the idea of burning the city. I dont really have any friends here. Any wonder? I dont really have a job here. Any wonder? I dont want to hurt anyone really .. just kind of want to find a clan of peeps to be my friends and live with and make a life thats worth living ... but i have no desire to earn money. i like having this apartment but the cash pile is about to run out and then i think i am going to kill myself. or burn the city. or build a centrifuge, mine some uranium, and then construct a device that can biu fu... fuck.'],\n",
       "      dtype=object)"
      ]
     },
     "execution_count": 28,
     "metadata": {},
     "output_type": "execute_result"
    }
   ],
   "source": [
    "df['full_text'].fillna('', inplace=True)\n",
    "texts = df.full_text.values\n",
    "texts"
   ]
  },
  {
   "cell_type": "code",
   "execution_count": 29,
   "metadata": {},
   "outputs": [
    {
     "data": {
      "text/plain": [
       "array(['Life is so pointless without others Does anyone else think the most important part of life is being in a relationship? like the absolute most important. I don’t really care for any other goals in my life lol as long as I end up in a relationship. that’s like my ultimate life goal. I wish I wasn’t like this tho.  my therapist will ask me ab life goals and I just can’t imagine doing anything without someone by my side.',\n",
       "       'Cold rage? Hello fellow friends   I\\'m on the BPD spectrum and have discouraged (silent) borderline characteristics.  There are different levels to experiencing anger. I was wondering, what are yours? And how do you express it? What\\'s a healthy way you found to cool it down?  For me I will first become silent and blame myself, \"maybe if I\" or \"If I only\", \"maybe he\\'s just not having it today\", \"maybe I simply don\\'t get him due to my own shortcomings in understanding\". However, I find it interesting how, when someone hurts the ones I love, I tend not to demonize myself no more in the extend I would normally do, but rather the aggressor. In extreme cases this can lead to my maximum expression of anger. I don\\'t know whether you guys get to experience this as well?   I have written this as a reaction to another post and it illustrates what this anger would look like:  \"The maximum amount of rage. it\\'s like I blackout. I call it cold rage. No sense of pain whatsoever, pure anger. It\\'s the point people don\\'t recognize me anymore, because I will dissociate in anger. My field of view will become a pinpoint, I will start breathing superficially, and even lash out to the ones I love trying to calm me. It\\'s disgusting and the insanity itself. I must say this only happened once in my life, when the ex of my sister encouraged her to mix her psych meds with drugs and alcohol and so she went into deep psychotic state for the first time of her life. He didn\\'t even let us know what had happened, my sister just came home in that state. Then he called her and told her she\\'s completely bonkers, instead of alarming the rest of the family. I\\'m shaking as I\\'m writing this because I know it\\'s still the rest of anger inside me left behind. It was the first time I thought I could end someone\\'s life. I\\'m extremely grateful for the fact that I didn\\'t, but I know I shouldn\\'t see him anywhere ever again. I try to calm myself by saying he\\'s using drugs every day since he was like 14 yo, so in his brain he must be still a child who doesn\\'t get it, due to development delay. But more often than not these calming thoughts don\\'t work. He has very narcissistic tendencies. And saying I hate him would be an absolute understatement. I do get therapy now though. So I wonder whether I would be able to get to that level ever again. I guess not.\"  To put things in perspective: Normally I\\'m a shy and polite person. I never insult others, because I hate hurting them. People will even tell me I lack confidence actually and I should \"stand up for myself more.\"  So yeah, to end this long rant with the clear questions I started it with: \"There are different levels to experiencing anger. I was wondering, what are yours? And how do you express it? What\\'s a healthy way you found to cool it down?\"',\n",
       "       'I don’t know who I am My [F20] bf [M20] told me today (after I said “I just wish I could be better for you”) that he likes me for who I am, and that I don’t need to be better for him. And after crying about how I don’t think anyone has ever said that to me before, I realized that I don’t know who I am. I know my name, I know my age, I know my school and my hair colour and my weight and my shoe size, but I don’t know any qualitative. I don’t have a favourite meal, or a favourite movie, I don’t know what hobbies I have anymore, or what I’d like in a partner, or my favourite restaurant. I don’t know when I lost myself, or if this is even related to my bpd, but has anyone else experienced this? Am I alone?',\n",
       "       'HELP! Opinions! Advice! Okay, I’m about to open up about many things I’ve done in my past that I’m not proud of. I’m not that person anymore. In these stories I was 17 and immature as fuck. I’m now 22 with a total different take on life.  I became best friends with this girl in 2017. We were both 17 at the time. We did everything together. We smoked weed daily. Sleepovers. Longboard together. Did acid together. We did everything together. We would die for each other.  Once we robbed our mutual friends house. We stole $200 from the girls dad. I ended up telling the girl and paid her back Bc I felt bad.   Once we robbed a building and made out with $1,500 and never got caught.  Once we robbed a house we thought was someone we knew who just robbed us. Turned out it was a fake address he gave us and we robbed a random house. We never got caught.  Once we got arrested for robbing cars off acid while drunk. We caught some fines for that.   We did a lot of sneaky bad shit together. After the last time we got caught, we stopped doing all that shit. We were doing really well.   Long story short this is how our friendship ended.  I was dating a super toxic dude and she’d tell me to leave him all the time. Finally I left him. We went to a party and had a fucking blast. The next day I went home and sent her this whole long text about how her and her bf were toxic and that they should break up.   She didn’t take that lightly. I don’t blame her I wasn’t nice about it and it came out of no where. We were literally fine the day before.  I ended up switching schools and she started rumors that I wanted to break them up because I wanted her boyfriend and he told everyone I tried to kiss him. Not true. He didn’t like me because she spent more time with me than him and he voiced that all the time.  Then I got with my current boyfriend HERE IT IS... I got my boyfriend to rob her house. I specifically said he could only take weed related things. No money and can’t steal from her mom. So he took two bongs and 8gs of weed. She assumed it was me right away Bc who else knew her window didn’t shut. I finally admitted to her like 5/6 months later during our graduation. When I told her, it looked like she wanted to kill me but she kept her cool on the outside.  Let’s call my best friend that I had my bf rob - Katrina Let’s call the girl Katrina and I robbed $200 from her parents - Yazra  Yazra wasn’t mad at Katrina or Me for robbing her parents. She accepted out apology. Yazra invited me and Katrina to her graduation party. We both show up and there I gave Katrina $300 to make up for what I had robbed. She didn’t seem happy. I don’t blame her.   It’s been 5ish years since 2017 when we were best friends. We are friends on Facebook but we don’t talk.   Last week I shared a post that says “if you were ever my closet friend at one point just know I think about you from time to time and hope you’re doing great things in life” and she heart reacted my post  4 days ago I saw her at the liquor store. She was right behind me in line. I was consumed in anxiety and couldn’t even bring myself to say hi or even look at her. When we first saw each other we both looked shook and then quickly looked/walked away. She also said nothing.   I really really want to be her friend again. I cry over her all the time. I vent about her in my journals. I write letters that I think I would one day send to her but never do.   Do you think she forgave me?  Do you think she misses me?  Do you think she could give me a chance again?  Do you think she’s even capable of trusting me again?  Don’t you think she could forgive me after everything we did to other people?  Do you think I should try to message her?  I apologized 100 times back in 2018 during graduation and at the graduation party and repaid her.  What should I say if I do message her?  I really don’t want to never message her and move on from her. She’s really special to me. I love her a lot. She was the best friend I ever had besides all the bad stuff we did. I know we are both grown up now and we wouldn’t do any more stupid reckless shit if we were friends again.   Help. I’m a wreck.',\n",
       "       'My ex got diagnosed with BPD Without going into detail, this diagnosis explains so much. The sudden break ups, severe mood swings, destructive and controlling behaviour - all makes a lot more sense now.  We have been on and off for the past 7 months since we broke up, but recently we’ve been on and it’s genuinely felt like we’re rebuilding a meaningful connection again.  She came to me straight away after her psychology appointment to talk to me about it, and what it could mean for us in the future. She shared her insecurities and concerns about it, but also what she knows she can build on within her self moving forward. She told me with confidence that she is willing to give our relationship a good shot again, and I am too.  Being aware of her diagnosis, we can work together and with help of her psychologist it looks like she’s getting back on track again - and I’m willing to support her through all of this.  She’s asked me not to tell anyone about this at least until she’s ready, so that’s why I’ve come here to update this subreddit.  Anyone willing to share any experiences or give any advice would be greatly appreciated. Thanks',\n",
       "       'Is misdiagnosis of BPD common? I am asking because I was diagnosed a few years back, but I do not think I have it (Reposting here on the larger sub on recommendation of people from the smaller sub)  I am not sure how common my story is, but I think it\\'s more common than I would think.  I was a problem child for a lot of my childhood in school, but began to improve in middle school. I was very bad with people all my life and everyone who meets me ends up disliking me (this is not an exaggeration, this is unfortunately quite literally the case). This caused me to be a very homebound child and I grew very, very attached to my family. I was academically rather successful in HS, but socially the same. College was an unmitigated disaster for me and at the urging of someone I \"saw someone\". The last time I was evaluated was for autism and ADHD in elementary school and was given a clean bill of health, so to speak.  After two days of talking to someone, the psychiatrist said she believed I had BPD. I heard of the condition before, but I was taken aback and after several sessions asked if she stood by her assessment and she said yes (she claimed to have a bit of experience working with people with personality disorders). After our sessions ended (I saw her in secret), that was kind of it.  I began reading about BPD more and more and the more I read, the less I saw myself in the condition. Yes, I have huge issues with impulse control and have pretty dire self inflicted issues with my health. I am very clingy to people because of the fact everyone I have ever known has run away from me. I have a limited sense of self, to a certain extent, and have huge problems being alone without anyone with me.   But otherwise, it just doesnt click all that much. I am not suicidal, I am not driven to make rash sudden decisions that screw up my life, I am not the kind of person who would quit a job just because I want to curse out my boss (I am pretty good at holding my tongue when there is something in it for me). I wouldn\\'t say I have emotional dysregulation. I know mood swings are the calling card of the condition, and I cant say I have mood swings.   I know you have to meet 5 of 9 criteria. I would say I meet 3 of them like a glove, 4 if we are being generous, and 5 if we are playing fast and loose. And that is just to meet the lowest threshold of the condition.   This happened a few years ago, and I havent followed up on it, but the problems in my life havent gone away.   I figure that I have to wrestle with whether or not I was misdiagnosed to make progress on that front. Is it a thing to be misdiagnosed? Is this a condition like ADHD, where it\\'s over applied? I am a guy, if it makes any difference.  Thanks a lot, everyone',\n",
       "       'I have trouble identifying my sexual orientation because my BPD likes having an identity. I grew up mostly dating men but realized when I was a teenager that I also like women. I know for sure that I am attracted to women, but I go off and on with feeling or knowing if I like men. Do I dislike my male ex’s because they did me wrong or because I forced myself to date men through compulsory heterosexuality?   A few years ago I did believe that I was a lesbian, then went back to bisexual a year later. Now I feel like I am a lesbian again but honestly I really am not sure.   I label myself as queer now because I don’t know if I truly fit into the bisexual category or lesbian category. I wish I didn’t have so many identity issues so that I wasn’t so worried about this/may be able to understand myself easier and not struggle so much with my identity.',\n",
       "       'Needing advice… I posted on this sub earlier today about having trouble believing my boyfriend even loves me. We are literally moving into a house together and he always reassures me so I know he does…you can look at my post history to see it.   Anyway, I spiraled and got drunk out of anxiety. I went into his facebook page and went YEARS deep and found pics and posts and comments with an ex from literally so long ago. We are both 22, and he was like 16 in these posts. But I saw his family interacting with her and saying how much they love her like they do to me now, and I have broken down. I am sobbing and hysterical and so upset. I know it’s irrational but I am a mess right now.   I feel like I have been flying off the BPD handle lately. I am never NOT freaking out about something. I guess my question is, should I mention this? I feel like I shouldn’t because it’s my issue, and not his. He also didn’t do anything wrong, this is from YEARS ago. I just now can’t get it out of my head that his whole family is just tolerating me at best, and I am just meaningless. I hate that he has had exes because … I don’t know why. I do, too. But thinking about how he was with other women before makes me sick.   I honestly don’t know what else to add to this post because I am just freaking out. Any advice is appreciated. I probably will delete this later.',\n",
       "       'How do you deal with a partner that lacks empathy? If they were to tell you that you were being overdramatic, how would you react or feel? I had the last straw and decided to not talk to my boyfriend. He asked if I was upset at him and all he had to say was \"that\\'s Fair. I\\'ve told him several times to stop telling me things like that or it will make it worse and he just doesn\\'t care. It was my mom\\'s birthday and he didn\\'t even say happy birthday to her. I spent a lot of time crying just thinking that I go through things alone and don\\'t have any support, and no one to talk to about my problems. It hurts so much loving someone that probably doesn\\'t ever care about your feelings ',\n",
       "       'My husband doesn’t allow me to take my pills for BPD, how can I manage my feelings without medicine? I am in a really dark moment in my life right now. My husband is a controlling pos that believes he’s a doctor and doesn’t allow me to get any kind of treatment for my BPD. I recently moved to his country and I am unable to do anything by myself (I don’t speak Korean), also he keeps the salary of my job so I don’t have money. I can’t move back to my country either, my family stopped to talk to me because I married him, so how can I cope with all the suicide thoughts I have everyday? I also suffer from anger management issues and without medicine, I can’t control myself and we fight a lot. I feel really lonely here, he works 24/7, but I prefer that than being with him honestly. He’s controlling and even violent sometimes. What do you recommend to treat my BPD?'],\n",
       "      dtype=object)"
      ]
     },
     "execution_count": 29,
     "metadata": {},
     "output_type": "execute_result"
    }
   ],
   "source": [
    "texts[:10]"
   ]
  },
  {
   "cell_type": "code",
   "execution_count": 31,
   "metadata": {},
   "outputs": [
    {
     "name": "stderr",
     "output_type": "stream",
     "text": [
      "c:\\Users\\vramo\\miniconda3\\envs\\torch_env\\lib\\site-packages\\transformers\\models\\bert\\modeling_bert.py:439: UserWarning: 1Torch was not compiled with flash attention. (Triggered internally at ..\\aten\\src\\ATen\\native\\transformers\\cuda\\sdp_utils.cpp:455.)\n",
      "  attn_output = torch.nn.functional.scaled_dot_product_attention(\n"
     ]
    }
   ],
   "source": [
    "embeddings = model.encode(texts)"
   ]
  },
  {
   "cell_type": "code",
   "execution_count": 33,
   "metadata": {},
   "outputs": [],
   "source": [
    "import numpy as np\n",
    "np.savetxt('my_file.txt', embeddings)"
   ]
  },
  {
   "cell_type": "code",
   "execution_count": 34,
   "metadata": {},
   "outputs": [],
   "source": [
    "embeddings = np.loadtxt('my_file.txt')"
   ]
  },
  {
   "cell_type": "code",
   "execution_count": 36,
   "metadata": {},
   "outputs": [],
   "source": [
    "import umap"
   ]
  },
  {
   "cell_type": "code",
   "execution_count": 39,
   "metadata": {},
   "outputs": [],
   "source": [
    "umap_model = umap.UMAP(n_components=25, metric='cosine')\n",
    "\n",
    "embeddings_25 = umap_model.fit(embeddings)"
   ]
  },
  {
   "cell_type": "code",
   "execution_count": 43,
   "metadata": {},
   "outputs": [],
   "source": [
    "np.savetxt('umap_25.txt', embeddings_25.embedding_)"
   ]
  },
  {
   "cell_type": "code",
   "execution_count": 47,
   "metadata": {},
   "outputs": [],
   "source": [
    "umap_25 = np.loadtxt('umap_25.txt')"
   ]
  }
 ],
 "metadata": {
  "kernelspec": {
   "display_name": "torch_env",
   "language": "python",
   "name": "python3"
  },
  "language_info": {
   "codemirror_mode": {
    "name": "ipython",
    "version": 3
   },
   "file_extension": ".py",
   "mimetype": "text/x-python",
   "name": "python",
   "nbconvert_exporter": "python",
   "pygments_lexer": "ipython3",
   "version": "3.10.14"
  }
 },
 "nbformat": 4,
 "nbformat_minor": 2
}
